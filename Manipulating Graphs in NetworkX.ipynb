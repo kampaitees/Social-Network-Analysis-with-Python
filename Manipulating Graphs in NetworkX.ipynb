{
 "cells": [
  {
   "cell_type": "markdown",
   "metadata": {},
   "source": [
    "# Creating and Manipulating Graphs\n",
    "\n",
    "Eight employees at a small company were asked to choose 3 movies that they would most enjoy watching for the upcoming company movie night. These choices are stored in the file `Employee_Movie_Choices.txt`.\n",
    "\n",
    "A second file, `Employee_Relationships.txt`, has data on the relationships between different coworkers. \n",
    "\n",
    "The relationship score has value of `-100` (Enemies) to `+100` (Best Friends). A value of zero means the two employees haven't interacted or are indifferent.\n",
    "\n",
    "Both files are tab delimited."
   ]
  },
  {
   "cell_type": "code",
   "execution_count": 1,
   "metadata": {},
   "outputs": [],
   "source": [
    "import networkx as nx\n",
    "import pandas as pd\n",
    "import numpy as np\n",
    "from networkx.algorithms import bipartite\n",
    "\n",
    "\n",
    "# This is the set of employees\n",
    "employees = set(['Pablo',\n",
    "                 'Lee',\n",
    "                 'Georgia',\n",
    "                 'Vincent',\n",
    "                 'Andy',\n",
    "                 'Frida',\n",
    "                 'Joan',\n",
    "                 'Claude'])\n",
    "\n",
    "# This is the set of movies\n",
    "movies = set(['The Shawshank Redemption',\n",
    "              'Forrest Gump',\n",
    "              'The Matrix',\n",
    "              'Anaconda',\n",
    "              'The Social Network',\n",
    "              'The Godfather',\n",
    "              'Monty Python and the Holy Grail',\n",
    "              'Snakes on a Plane',\n",
    "              'Kung Fu Panda',\n",
    "              'The Dark Knight',\n",
    "              'Mean Girls'])\n",
    "\n",
    "\n",
    "# we can use the following function to plot graphs\n",
    "# make sure to comment it out before submitting to the autograder\n",
    "def plot_graph(G, weight_name=None):\n",
    "    '''\n",
    "    G: a networkx G\n",
    "    weight_name: name of the attribute for plotting edge weights (if G is weighted)\n",
    "    '''\n",
    "    %matplotlib notebook\n",
    "    import matplotlib.pyplot as plt\n",
    "    \n",
    "    plt.figure()\n",
    "    pos = nx.spring_layout(G)\n",
    "    edges = G.edges()\n",
    "    weights = None\n",
    "    \n",
    "    if weight_name:\n",
    "        weights = [int(G[u][v][weight_name]) for u,v in edges]\n",
    "        labels = nx.get_edge_attributes(G,weight_name)\n",
    "        nx.draw_networkx_edge_labels(G,pos,edge_labels=labels)\n",
    "        nx.draw_networkx(G, pos, edges=edges, width=weights);\n",
    "    else:\n",
    "        nx.draw_networkx(G, pos, edges=edges);"
   ]
  },
  {
   "cell_type": "markdown",
   "metadata": {},
   "source": [
    "### Using NetworkX, first we will load in the bipartite graph from `Employee_Movie_Choices.txt`"
   ]
  },
  {
   "cell_type": "code",
   "execution_count": 24,
   "metadata": {},
   "outputs": [],
   "source": [
    "def task_one():    \n",
    "    df = pd.read_csv('Employee_Movie_Choices.txt', delimiter='\\t')\n",
    "    G = nx.from_pandas_dataframe(df, '#Employee', 'Movie')\n",
    "    return G"
   ]
  },
  {
   "cell_type": "markdown",
   "metadata": {},
   "source": [
    "### Using the graph from the previous cell, we will add nodes attributes named `'type'` where movies have the value `'movie'` and employees have the value `'employee'`"
   ]
  },
  {
   "cell_type": "code",
   "execution_count": 26,
   "metadata": {},
   "outputs": [],
   "source": [
    "def task_two():\n",
    "    G = answer_one()\n",
    "    for node in G.nodes():\n",
    "        if node in employees:\n",
    "            G.add_node(node, type='employee')\n",
    "        elif node in movies:\n",
    "            G.add_node(node, type='movie')\n",
    "    return G"
   ]
  },
  {
   "cell_type": "markdown",
   "metadata": {},
   "source": [
    "### Finding a weighted projection of the graph, which tells us how many movies different pairs of employees have in common"
   ]
  },
  {
   "cell_type": "code",
   "execution_count": 85,
   "metadata": {},
   "outputs": [],
   "source": [
    "def task_three():\n",
    "    G = answer_two()\n",
    "    G = bipartite.weighted_projected_graph(G, employees)\n",
    "    return G"
   ]
  },
  {
   "cell_type": "markdown",
   "metadata": {},
   "source": [
    "### Finding the Pearson correlation between employee relationship scores and the number of movies they have in common"
   ]
  },
  {
   "cell_type": "code",
   "execution_count": 89,
   "metadata": {},
   "outputs": [],
   "source": [
    "def task_four():\n",
    "    def set_value(val):\n",
    "        if val is np.nan:\n",
    "            return {'weight': 0}\n",
    "        else:\n",
    "            return val\n",
    "    G = answer_three()\n",
    "    Rel = nx.read_edgelist('Employee_Relationships.txt' ,data=[('relationship_score', int)])\n",
    "    G_df = pd.DataFrame(G.edges(data=True), columns=['From', 'To', 'movies_score'])\n",
    "    Rel_df = pd.DataFrame(Rel.edges(data=True), columns=['From', 'To', 'relationship_score'])\n",
    "    G_copy_df = G_df.copy()\n",
    "    G_copy_df.rename(columns={\"From\":\"From1\", \"To\":\"From\"}, inplace=True)\n",
    "    G_copy_df.rename(columns={\"From1\":\"To\"}, inplace=True)\n",
    "    G_final_df = pd.concat([G_df, G_copy_df])    \n",
    "    final_df = pd.merge(G_final_df, Rel_df, on = ['From', 'To'], how='right')\n",
    "    final_df['movies_score'] = final_df['movies_score'].map(set_value)\n",
    "    final_df['movies_score'] = final_df['movies_score'].map(lambda x: x['weight'])\n",
    "    final_df['relationship_score'] = final_df['relationship_score'].map(lambda x: x['relationship_score'])\n",
    "    value = final_df['movies_score'].corr(final_df['relationship_score'])\n",
    "    return value"
   ]
  }
 ],
 "metadata": {
  "coursera": {
   "course_slug": "python-social-network-analysis",
   "graded_item_id": "YNa9b",
   "launcher_item_id": "hvNc1",
   "part_id": "VbyiB"
  },
  "kernelspec": {
   "display_name": "Python 3",
   "language": "python",
   "name": "python3"
  },
  "language_info": {
   "codemirror_mode": {
    "name": "ipython",
    "version": 3
   },
   "file_extension": ".py",
   "mimetype": "text/x-python",
   "name": "python",
   "nbconvert_exporter": "python",
   "pygments_lexer": "ipython3",
   "version": "3.7.9"
  }
 },
 "nbformat": 4,
 "nbformat_minor": 4
}
